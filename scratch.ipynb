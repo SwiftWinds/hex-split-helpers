{
 "cells": [
  {
   "cell_type": "code",
   "execution_count": 61,
   "metadata": {
    "collapsed": true
   },
   "outputs": [
    {
     "name": "stdout",
     "output_type": "stream",
     "text": [
      "00000001001010000100100000100000\n"
     ]
    }
   ],
   "source": [
    "hexadecimal = \"0128 4820\".replace(\" \", \"\").lower()\n",
    "\n",
    "end_length = len(hexadecimal) * 4\n",
    "\n",
    "hex_as_int = int(hexadecimal, 16)\n",
    "\n",
    "hex_as_binary = bin(hex_as_int)\n",
    "\n",
    "padded_binary = hex_as_binary[2:].zfill(end_length)\n",
    "\n",
    "print(padded_binary)"
   ]
  },
  {
   "cell_type": "code",
   "execution_count": 62,
   "outputs": [],
   "source": [
    "reversed_binary = padded_binary[::-1]\n",
    "reversed_F = reversed_binary[:16]\n",
    "reversed_G = reversed_binary[16:21]\n",
    "reversed_H = reversed_binary[11:16]\n",
    "\n",
    "F = reversed_F[::-1]\n",
    "G = reversed_G[::-1]\n",
    "H = reversed_H[::-1]"
   ],
   "metadata": {
    "collapsed": false,
    "pycharm": {
     "name": "#%%\n"
    }
   }
  },
  {
   "cell_type": "code",
   "execution_count": 63,
   "outputs": [],
   "source": [
    "F_hex = hex(int(F, 2))\n",
    "G_hex = hex(int(G, 2))\n",
    "H_hex = hex(int(H, 2))"
   ],
   "metadata": {
    "collapsed": false,
    "pycharm": {
     "name": "#%%\n"
    }
   }
  },
  {
   "cell_type": "code",
   "execution_count": 64,
   "outputs": [],
   "source": [
    "def pad_and_case(s, n):\n",
    "    return '0x' + s[2:].zfill(n).upper()"
   ],
   "metadata": {
    "collapsed": false,
    "pycharm": {
     "name": "#%%\n"
    }
   }
  },
  {
   "cell_type": "code",
   "execution_count": 65,
   "outputs": [
    {
     "name": "stdout",
     "output_type": "stream",
     "text": [
      "0x4820\n",
      "0x08\n",
      "0x09\n"
     ]
    }
   ],
   "source": [
    "print(pad_and_case(F_hex, 4))\n",
    "print(pad_and_case(G_hex, 2))\n",
    "print(pad_and_case(H_hex, 2))"
   ],
   "metadata": {
    "collapsed": false,
    "pycharm": {
     "name": "#%%\n"
    }
   }
  },
  {
   "cell_type": "code",
   "execution_count": 69,
   "outputs": [
    {
     "data": {
      "text/plain": "'0xfffffff8'"
     },
     "execution_count": 69,
     "metadata": {},
     "output_type": "execute_result"
    }
   ],
   "source": [
    "x = -8\n",
    "bits = 32\n",
    "hex((1 << bits) + x)"
   ],
   "metadata": {
    "collapsed": false,
    "pycharm": {
     "name": "#%%\n"
    }
   }
  },
  {
   "cell_type": "code",
   "execution_count": 68,
   "outputs": [
    {
     "data": {
      "text/plain": "'0x00001E35'"
     },
     "execution_count": 68,
     "metadata": {},
     "output_type": "execute_result"
    }
   ],
   "source": [
    "'0x{0:08X}'.format(7733)"
   ],
   "metadata": {
    "collapsed": false,
    "pycharm": {
     "name": "#%%\n"
    }
   }
  }
 ],
 "metadata": {
  "kernelspec": {
   "display_name": "Python 3",
   "language": "python",
   "name": "python3"
  },
  "language_info": {
   "codemirror_mode": {
    "name": "ipython",
    "version": 2
   },
   "file_extension": ".py",
   "mimetype": "text/x-python",
   "name": "python",
   "nbconvert_exporter": "python",
   "pygments_lexer": "ipython2",
   "version": "2.7.6"
  }
 },
 "nbformat": 4,
 "nbformat_minor": 0
}